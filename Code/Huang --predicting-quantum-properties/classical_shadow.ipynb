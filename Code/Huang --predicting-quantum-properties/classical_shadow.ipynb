{
 "cells": [
  {
   "cell_type": "markdown",
   "id": "3bf26aee",
   "metadata": {},
   "source": [
    "# Classical Shadow"
   ]
  },
  {
   "cell_type": "code",
   "execution_count": 3,
   "id": "2b77685a",
   "metadata": {},
   "outputs": [
    {
     "ename": "SyntaxError",
     "evalue": "invalid syntax (3549696225.py, line 11)",
     "output_type": "error",
     "traceback": [
      "\u001b[0;36m  Input \u001b[0;32mIn [3]\u001b[0;36m\u001b[0m\n\u001b[0;31m    full_measurement = [a list of [list of (XYZ basis, +-1 outcome) for each qubit]]\u001b[0m\n\u001b[0m                          ^\u001b[0m\n\u001b[0;31mSyntaxError\u001b[0m\u001b[0;31m:\u001b[0m invalid syntax\n"
     ]
    }
   ],
   "source": [
    "import data_acquisition_shadow\n",
    "import prediction_shadow\n",
    "\n",
    "# randomized classical shadow consisting of 100 parallel measurements in a 20-qubit system\n",
    "measurement_procedure = data_acquisition_shadow.randomized_classical_shadow(\n",
    "    100, 20)\n",
    "\n",
    "# measurement_procedure = [a list of 100 parallel measurements, each being [a list of 20 single-qubit Pauli bases]]\n",
    "print(measurement_procedure)\n",
    "\n",
    "# full_measurement = [a list of [list of (XYZ basis, +-1 outcome) for each qubit]]\n",
    "# one_observable = [a list of (Pauli-XYZ, index for the qubit)]\n",
    "prediction_shadow.estimate_exp(full_measurement, one_observable)"
   ]
  },
  {
   "cell_type": "markdown",
   "id": "7972f544",
   "metadata": {},
   "source": [
    "## Versions of software package/module "
   ]
  },
  {
   "cell_type": "code",
   "execution_count": 13,
   "id": "434f238e",
   "metadata": {},
   "outputs": [
    {
     "name": "stdout",
     "output_type": "stream",
     "text": [
      "numpy version: 1.21.5\n",
      "matplotlib version 3.5.1\n",
      "Scikit-learn version: 1.1.2\n",
      "QuTiP version: 4.7.0\n"
     ]
    }
   ],
   "source": [
    "# about()\n",
    "# conda list\n",
    "# from qutip.ipynbtools import version_table\n",
    "# version_table()\n",
    "# qutip.cite()\n",
    "\n",
    "print('numpy version:', np.__version__)\n",
    "print('matplotlib version', mpl.__version__)\n",
    "\n",
    "import sklearn\n",
    "print('Scikit-learn version:', sklearn.__version__)\n",
    "print('QuTiP version:', qutip.__version__)"
   ]
  }
 ],
 "metadata": {
  "kernelspec": {
   "display_name": "Python 3.8.8 ('base')",
   "language": "python",
   "name": "python3"
  },
  "language_info": {
   "codemirror_mode": {
    "name": "ipython",
    "version": 3
   },
   "file_extension": ".py",
   "mimetype": "text/x-python",
   "name": "python",
   "nbconvert_exporter": "python",
   "pygments_lexer": "ipython3",
   "version": "3.8.8"
  },
  "vscode": {
   "interpreter": {
    "hash": "4e8ef2f9fcac0817bca9a7ca376f64f20b4df5ea3bf7af756a50bda7d3557ea6"
   }
  }
 },
 "nbformat": 4,
 "nbformat_minor": 5
}
