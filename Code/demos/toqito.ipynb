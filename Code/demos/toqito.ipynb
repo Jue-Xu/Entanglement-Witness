{
 "cells": [
  {
   "cell_type": "markdown",
   "id": "44a40d2c",
   "metadata": {},
   "source": [
    "## toqito demo\n",
    "\n",
    "https://vprusso.github.io/toqito/\n",
    "\n",
    "https://toqito.readthedocs.io/en/latest/tutorials.html"
   ]
  },
  {
   "cell_type": "code",
   "execution_count": 2,
   "id": "59b1af11",
   "metadata": {},
   "outputs": [
    {
     "data": {
      "text/plain": [
       "0.8535533908447781"
      ]
     },
     "execution_count": 2,
     "metadata": {},
     "output_type": "execute_result"
    }
   ],
   "source": [
    "# https://vprusso.github.io/toqito/\n",
    "from toqito.nonlocal_games.xor_game import XORGame\n",
    "import numpy as np\n",
    "\n",
    "# The probability matrix.\n",
    "prob_mat = np.array([[1/4, 1/4], [1/4, 1/4]])\n",
    "\n",
    "# The predicate matrix.\n",
    "pred_mat = np.array([[0, 0], [0, 1]])\n",
    "\n",
    "# Define CHSH game from matrices.\n",
    "chsh = XORGame(prob_mat, pred_mat)\n",
    "chsh.classical_value()\n",
    "chsh.quantum_value()"
   ]
  },
  {
   "cell_type": "code",
   "execution_count": null,
   "id": "f0dfc5f6",
   "metadata": {},
   "outputs": [],
   "source": []
  }
 ],
 "metadata": {
  "kernelspec": {
   "display_name": "Python 3.8.8 ('base')",
   "language": "python",
   "name": "python3"
  },
  "language_info": {
   "codemirror_mode": {
    "name": "ipython",
    "version": 3
   },
   "file_extension": ".py",
   "mimetype": "text/x-python",
   "name": "python",
   "nbconvert_exporter": "python",
   "pygments_lexer": "ipython3",
   "version": "3.8.8"
  },
  "vscode": {
   "interpreter": {
    "hash": "4e8ef2f9fcac0817bca9a7ca376f64f20b4df5ea3bf7af756a50bda7d3557ea6"
   }
  }
 },
 "nbformat": 4,
 "nbformat_minor": 5
}
