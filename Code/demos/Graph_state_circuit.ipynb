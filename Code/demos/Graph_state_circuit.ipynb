{
 "cells": [
  {
   "cell_type": "markdown",
   "metadata": {},
   "source": [
    "## Graph state - entanglement"
   ]
  },
  {
   "cell_type": "code",
   "execution_count": 49,
   "metadata": {},
   "outputs": [],
   "source": [
    "## import necessary packages\n",
    "import sys\n",
    "import numpy as np\n",
    "import matplotlib as mpl\n",
    "import math\n",
    "from cmath import cos, sin, exp, pi\n",
    "# import cmath\n",
    "\n",
    "\n",
    "import matplotlib.pyplot as plt\n",
    "plt.rcParams['figure.dpi'] = 400\n",
    "%matplotlib inline\n",
    "%config InlineBackend.figure_format = 'retina'\n",
    "\n",
    "\n",
    "import random\n",
    "pauli_operators = [qeye(2), sigmax(),sigmay(),sigmaz()]\n",
    "I, X, Y, Z = qeye(2), sigmax(), sigmay(), sigmaz()\n",
    "\n",
    "\n",
    "from sklearn import svm, datasets\n",
    "from sklearn.inspection import DecisionBoundaryDisplay\n",
    "\n",
    "\n",
    "from qutip import *\n",
    "# https://qutip-qip.readthedocs.io/en/stable/qip-simulator.html#\n",
    "from qutip_qip.circuit import QubitCircuit\n",
    "# https://qutip-qip.readthedocs.io/en/stable/qip-basics.html\n",
    "from qutip_qip.operations import (Gate, controlled_gate, hadamard_transform, sqrtswap)\n",
    "\n",
    "\n",
    "def generate_zero_state(n):\n",
    "    return tensor([basis(2,0) for i in range(n)])\n"
   ]
  },
  {
   "cell_type": "markdown",
   "metadata": {},
   "source": [
    "### Graph state - ring"
   ]
  },
  {
   "cell_type": "code",
   "execution_count": 46,
   "metadata": {},
   "outputs": [
    {
     "data": {
      "image/png": "[encoded data removed]",
      "text/plain": [
       "<IPython.core.display.Image object>"
      ]
     },
     "execution_count": 46,
     "metadata": {},
     "output_type": "execute_result"
    }
   ],
   "source": [
    "# https://qutip-qip.readthedocs.io/en/stable/qip-simulator.html#\n",
    "qc_ring = QubitCircuit(N=4, num_cbits=3)\n",
    "qc_ring.add_gate(\"SNOT\", targets=[0])\n",
    "qc_ring.add_gate(\"SNOT\", targets=[1])\n",
    "qc_ring.add_gate(\"SNOT\", targets=[2])\n",
    "qc_ring.add_gate(\"SNOT\", targets=[3])\n",
    "qc_ring.add_gate(\"CZ\", targets=[2], controls=1)\n",
    "qc_ring.add_gate(\"CZ\", targets=[3], controls=0)\n",
    "qc_ring.add_gate(\"CZ\", targets=[1], controls=0)\n",
    "qc_ring.add_gate(\"CZ\", targets=[3], controls=2)\n",
    "qc_ring.png"
   ]
  },
  {
   "cell_type": "code",
   "execution_count": 47,
   "metadata": {},
   "outputs": [
    {
     "name": "stdout",
     "output_type": "stream",
     "text": [
      "Quantum object: dims = [[2, 2, 2, 2], [1, 1, 1, 1]], shape = (16, 1), type = ket\n",
      "Qobj data =\n",
      "[[ 0.25]\n",
      " [ 0.25]\n",
      " [ 0.25]\n",
      " [-0.25]\n",
      " [ 0.25]\n",
      " [ 0.25]\n",
      " [-0.25]\n",
      " [ 0.25]\n",
      " [ 0.25]\n",
      " [-0.25]\n",
      " [ 0.25]\n",
      " [ 0.25]\n",
      " [-0.25]\n",
      " [ 0.25]\n",
      " [ 0.25]\n",
      " [ 0.25]]\n"
     ]
    }
   ],
   "source": [
    "zero_state = generate_zero_state(4)\n",
    "ring_state = qc_ring.run(state=zero_state)\n",
    "\n",
    "print(ring_state)"
   ]
  },
  {
   "cell_type": "markdown",
   "metadata": {},
   "source": [
    "### SQRT-SWAP"
   ]
  },
  {
   "cell_type": "code",
   "execution_count": 50,
   "metadata": {},
   "outputs": [
    {
     "name": "stdout",
     "output_type": "stream",
     "text": [
      "Quantum object: dims = [[2, 2], [2, 2]], shape = (4, 4), type = oper, isherm = False\n",
      "Qobj data =\n",
      "[[1. +0.j  0. +0.j  0. +0.j  0. +0.j ]\n",
      " [0. +0.j  0.5+0.5j 0.5-0.5j 0. +0.j ]\n",
      " [0. +0.j  0.5-0.5j 0.5+0.5j 0. +0.j ]\n",
      " [0. +0.j  0. +0.j  0. +0.j  1. +0.j ]]\n"
     ]
    },
    {
     "data": {
      "image/png": "[encoded data removed]",
      "text/plain": [
       "<IPython.core.display.Image object>"
      ]
     },
     "execution_count": 50,
     "metadata": {},
     "output_type": "execute_result"
    }
   ],
   "source": [
    "print(sqrtswap())\n",
    "\n",
    "qc_sqrtswap = QubitCircuit(N=4, num_cbits=3)\n",
    "# Square root of the SWAP gate\n",
    "# qc_sqrtswap.add_gate(\"TOFFOLI\", targets=[2], controls=[0, 1])\n",
    "qc_sqrtswap.add_gate(\"SQRTSWAP\", targets=[0,1])\n",
    "qc_sqrtswap.png"
   ]
  },
  {
   "cell_type": "code",
   "execution_count": 51,
   "metadata": {},
   "outputs": [
    {
     "name": "stdout",
     "output_type": "stream",
     "text": [
      "Quantum object: dims = [[2, 2, 2, 2], [1, 1, 1, 1]], shape = (16, 1), type = ket\n",
      "Qobj data =\n",
      "[[1.]\n",
      " [0.]\n",
      " [0.]\n",
      " [0.]\n",
      " [0.]\n",
      " [0.]\n",
      " [0.]\n",
      " [0.]\n",
      " [0.]\n",
      " [0.]\n",
      " [0.]\n",
      " [0.]\n",
      " [0.]\n",
      " [0.]\n",
      " [0.]\n",
      " [0.]]\n"
     ]
    }
   ],
   "source": [
    "result = qc_sqrtswap.run(state=tensor(basis(2, 0), basis(2, 0), basis(2, 0), basis(2, 0)))\n",
    "print(result)"
   ]
  },
  {
   "cell_type": "markdown",
   "metadata": {},
   "source": [
    "### Generate W states"
   ]
  },
  {
   "cell_type": "code",
   "execution_count": 52,
   "metadata": {},
   "outputs": [
    {
     "name": "stderr",
     "output_type": "stream",
     "text": [
      "/Users/jue/opt/anaconda3/lib/python3.8/site-packages/qutip_qip/operations/gates.py:463: UserWarning: Unknown gate cH\n",
      "  warnings.warn(\"Unknown gate %s\" % name)\n"
     ]
    },
    {
     "data": {
      "image/png": "[encoded data removed]",
      "text/plain": [
       "<IPython.core.display.Image object>"
      ]
     },
     "execution_count": 52,
     "metadata": {},
     "output_type": "execute_result"
    }
   ],
   "source": [
    "\n",
    "def controlled_hadamard():\n",
    "    # Controlled Hadamard\n",
    "    return controlled_gate(hadamard_transform(1),\n",
    "                           2,\n",
    "                           control=0,\n",
    "                           target=1,\n",
    "                           control_value=1)\n",
    "\n",
    "\n",
    "qc_w = QubitCircuit(N=3, num_cbits=3)\n",
    "qc_w.user_gates = {\"cH\": controlled_hadamard}\n",
    "# U rotation gate used as a primitive in the QASM standard\n",
    "qc_w.add_gate(\"QASMU\", targets=[0], arg_value=[1.91063, 0, 0])\n",
    "qc_w.add_gate(\"cH\", targets=[0, 1])\n",
    "qc_w.add_gate(\"TOFFOLI\", targets=[2], controls=[0, 1])\n",
    "qc_w.add_gate(\"X\", targets=[0])\n",
    "qc_w.add_gate(\"X\", targets=[1])\n",
    "qc_w.add_gate(\"CNOT\", targets=[1], controls=0)\n",
    "qc_w.png\n"
   ]
  },
  {
   "cell_type": "code",
   "execution_count": 53,
   "metadata": {},
   "outputs": [
    {
     "name": "stdout",
     "output_type": "stream",
     "text": [
      "Quantum object: dims = [[2, 2, 2], [1, 1, 1]], shape = (8, 1), type = ket\n",
      "Qobj data =\n",
      "[[0.        ]\n",
      " [0.57734961]\n",
      " [0.57734961]\n",
      " [0.        ]\n",
      " [0.57735159]\n",
      " [0.        ]\n",
      " [0.        ]\n",
      " [0.        ]]\n",
      "Quantum object: dims = [[2, 2, 2], [1, 1, 1]], shape = (8, 1), type = ket\n",
      "Qobj data =\n",
      "[[0.        ]\n",
      " [0.57735027]\n",
      " [0.57735027]\n",
      " [0.        ]\n",
      " [0.57735027]\n",
      " [0.        ]\n",
      " [0.        ]\n",
      " [0.        ]]\n"
     ]
    }
   ],
   "source": [
    "# qc.add_measurement(\"M0\", targets=[0], classical_store=0)\n",
    "# qc.add_measurement(\"M1\", targets=[1], classical_store=1)\n",
    "# qc.add_measurement(\"M2\", targets=[2], classical_store=2)\n",
    "\n",
    "# from qutip import tensor, basis\n",
    "\n",
    "zero_state = tensor(basis(2, 0), basis(2, 0), basis(2, 0))\n",
    "wstate = qc_w.run(state=zero_state)\n",
    "\n",
    "print(wstate)\n",
    "print(w_state(3))"
   ]
  },
  {
   "cell_type": "markdown",
   "metadata": {},
   "source": [
    "### Custom Gates"
   ]
  },
  {
   "cell_type": "code",
   "execution_count": 54,
   "metadata": {},
   "outputs": [
    {
     "name": "stdout",
     "output_type": "stream",
     "text": [
      "Quantum object: dims = [[2, 2], [2, 2]], shape = (4, 4), type = oper, isherm = False\n",
      "Qobj data =\n",
      "[[1.        +0.j         0.        +0.j         0.        +0.j\n",
      "  0.        +0.j        ]\n",
      " [0.        +0.j         1.        +0.j         0.        +0.j\n",
      "  0.        +0.j        ]\n",
      " [0.        +0.j         0.        +0.j         0.70710678+0.j\n",
      "  0.        -0.70710678j]\n",
      " [0.        +0.j         0.        +0.j         0.        -0.70710678j\n",
      "  0.70710678+0.j        ]]\n"
     ]
    }
   ],
   "source": [
    "# https://qutip-qip.readthedocs.io/en/stable/qip-basics.html\n",
    "from qutip_qip.operations import Gate, rx\n",
    "\n",
    "\n",
    "def user_gate1(arg_value):\n",
    "    # controlled rotation X\n",
    "    mat = np.zeros((4, 4), dtype=np.complex128)\n",
    "    mat[0, 0] = mat[1, 1] = 1.\n",
    "    mat[2:4, 2:4] = rx(arg_value)\n",
    "    return Qobj(mat, dims=[[2, 2], [2, 2]])\n",
    "\n",
    "\n",
    "def user_gate2():\n",
    "    # S gate\n",
    "    mat = np.array([[1., 0], [0., 1.j]])\n",
    "    return Qobj(mat, dims=[[2], [2]])\n",
    "\n",
    "\n",
    "qc = QubitCircuit(2)\n",
    "qc.user_gates = {\"CTRLRX\": user_gate1, \"S\": user_gate2}\n",
    "\n",
    "# qubit 0 controls qubit 1\n",
    "qc.add_gate(\"CTRLRX\", targets=[0, 1], arg_value=np.pi / 2)\n",
    "\n",
    "# qubit 1 controls qubit 0\n",
    "qc.add_gate(\"CTRLRX\", targets=[1, 0], arg_value=np.pi / 2)\n",
    "\n",
    "# we also add a gate using a predefined Gate object\n",
    "g_T = Gate(\"S\", targets=[1])\n",
    "qc.add_gate(g_T)\n",
    "props = qc.propagators()\n",
    "\n",
    "print(props[0])"
   ]
  },
  {
   "cell_type": "code",
   "execution_count": null,
   "metadata": {},
   "outputs": [],
   "source": []
  }
 ],
 "metadata": {
  "kernelspec": {
   "display_name": "Python 3.8.8 ('base')",
   "language": "python",
   "name": "python3"
  },
  "language_info": {
   "codemirror_mode": {
    "name": "ipython",
    "version": 3
   },
   "file_extension": ".py",
   "mimetype": "text/x-python",
   "name": "python",
   "nbconvert_exporter": "python",
   "pygments_lexer": "ipython3",
   "version": "3.8.8"
  },
  "vscode": {
   "interpreter": {
    "hash": "4e8ef2f9fcac0817bca9a7ca376f64f20b4df5ea3bf7af756a50bda7d3557ea6"
   }
  }
 },
 "nbformat": 4,
 "nbformat_minor": 2
}
