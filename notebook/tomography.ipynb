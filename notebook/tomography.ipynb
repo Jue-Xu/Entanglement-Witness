{
 "cells": [
  {
   "cell_type": "markdown",
   "id": "3bf26aee",
   "metadata": {},
   "source": [
    "# Entanglement detection"
   ]
  },
  {
   "cell_type": "code",
   "execution_count": 1,
   "id": "funny-inflation",
   "metadata": {
    "ExecuteTime": {
     "end_time": "2021-02-03T19:46:44.658494Z",
     "start_time": "2021-02-03T19:46:44.587725Z"
    }
   },
   "outputs": [],
   "source": [
    "## import necessary packages\n",
    "import sys\n",
    "import numpy as np\n",
    "import matplotlib as mpl\n",
    "import math\n",
    "from cmath import cos, sin, exp, pi\n",
    "# import cmath\n",
    "\n",
    "# mpl.rcParams['figure.dpi'] = 400\n",
    "# mpl.rcParams[\"figure.figsize\"] = [10, 6]\n",
    "import matplotlib.pyplot as plt\n",
    "plt.rcParams['figure.dpi'] = 400\n",
    "%matplotlib inline\n",
    "%config InlineBackend.figure_format = 'retina'\n",
    "\n",
    "# print(sys.version)\n",
    "# print(sys.executable)\n",
    "# print(np.__version__)\n",
    "# print(mpl.__version__)\n",
    "\n",
    "from qutip import *\n",
    "\n",
    "import random\n",
    "pauli_operators = [qeye(2), sigmax(),sigmay(),sigmaz()]\n",
    "I, X, Y, Z = qeye(2), sigmax(), sigmay(), sigmaz()\n",
    "\n",
    "from sklearn import svm, datasets\n",
    "from sklearn.inspection import DecisionBoundaryDisplay\n",
    "\n"
   ]
  },
  {
   "cell_type": "markdown",
   "id": "085170c1",
   "metadata": {},
   "source": [
    "## Shadow tomography"
   ]
  },
  {
   "cell_type": "markdown",
   "id": "9a023bf9",
   "metadata": {},
   "source": [
    "### full tomography"
   ]
  },
  {
   "cell_type": "code",
   "execution_count": 20,
   "id": "4447f1c7",
   "metadata": {},
   "outputs": [],
   "source": [
    "# Quantum Process Tomography\n",
    "\n",
    "# qpt(U, op_basis_list)\n",
    "# qpt_plot(chi, lbls_list, title=None, fig=None, axes=None)"
   ]
  },
  {
   "cell_type": "markdown",
   "id": "fb9f0f46",
   "metadata": {},
   "source": [
    "### shadow tomography"
   ]
  },
  {
   "cell_type": "markdown",
   "id": "0e53809e",
   "metadata": {},
   "source": [
    "### classical shadow"
   ]
  },
  {
   "cell_type": "markdown",
   "id": "284f9e26",
   "metadata": {},
   "source": [
    "### derandomized tomography"
   ]
  },
  {
   "cell_type": "markdown",
   "id": "4d75326e",
   "metadata": {},
   "source": [
    "## quantum circuits"
   ]
  },
  {
   "cell_type": "markdown",
   "id": "e4d7fc2d",
   "metadata": {},
   "source": [
    "### qunatum trace estimation \n",
    "\n",
    "#### entanglement spectrum"
   ]
  },
  {
   "cell_type": "code",
   "execution_count": null,
   "id": "6af7f788",
   "metadata": {},
   "outputs": [],
   "source": [
    "# cnot(N=None, control=0, target=1)\n",
    "# controlled_gate(U, N=2, control=0, target=1, control_value=1)\n",
    "# csign(N=None, control=0, target=1)\n",
    "# hadamard_transform(N=1)\n",
    "# phasegate(theta, N=None, target=0)\n",
    "# sqrtswap(N=None, targets=[0, 1])\n",
    "# swap(N=None, targets=[0, 1])\n",
    "# toffoli(N=None, controls=[0, 1], target=2)\n",
    "\n",
    "# qft(N=1)"
   ]
  },
  {
   "cell_type": "markdown",
   "id": "87019b00",
   "metadata": {},
   "source": [
    "### Generate GHZ states"
   ]
  },
  {
   "cell_type": "code",
   "execution_count": 21,
   "id": "52204e80",
   "metadata": {},
   "outputs": [
    {
     "name": "stderr",
     "output_type": "stream",
     "text": [
      "/Users/jue/opt/anaconda3/lib/python3.8/site-packages/qutip_qip/operations/gates.py:463: UserWarning: Unknown gate cH\n",
      "  warnings.warn(\"Unknown gate %s\" % name)\n"
     ]
    },
    {
     "data": {
      "image/png": "[encoded data removed]",
      "text/plain": [
       "<IPython.core.display.Image object>"
      ]
     },
     "execution_count": 21,
     "metadata": {},
     "output_type": "execute_result"
    }
   ],
   "source": [
    "from qutip_qip.circuit import QubitCircuit\n",
    "from qutip_qip.operations import (Gate, controlled_gate, hadamard_transform)\n",
    "\n",
    "def controlled_hadamard():\n",
    "    # Controlled Hadamard\n",
    "    return controlled_gate(hadamard_transform(1),\n",
    "                           2,\n",
    "                           control=0,\n",
    "                           target=1,\n",
    "                           control_value=1)\n",
    "\n",
    "qc = QubitCircuit(N=3, num_cbits=3)\n",
    "qc.user_gates = {\"cH\": controlled_hadamard}\n",
    "qc.add_gate(\"QASMU\", targets=[0], arg_value=[1.91063, 0, 0])\n",
    "qc.add_gate(\"cH\", targets=[0, 1])\n",
    "qc.add_gate(\"TOFFOLI\", targets=[2], controls=[0, 1])\n",
    "qc.add_gate(\"X\", targets=[0])\n",
    "qc.add_gate(\"X\", targets=[1])\n",
    "qc.add_gate(\"CNOT\", targets=[1], controls=0)\n",
    "qc.png\n"
   ]
  },
  {
   "cell_type": "code",
   "execution_count": 30,
   "id": "313c8eab",
   "metadata": {},
   "outputs": [
    {
     "name": "stdout",
     "output_type": "stream",
     "text": [
      "Quantum object: dims = [[2, 2, 2], [1, 1, 1]], shape = (8, 1), type = ket\n",
      "Qobj data =\n",
      "[[0.        ]\n",
      " [0.57734961]\n",
      " [0.57734961]\n",
      " [0.        ]\n",
      " [0.57735159]\n",
      " [0.        ]\n",
      " [0.        ]\n",
      " [0.        ]]\n"
     ]
    }
   ],
   "source": [
    "# from qutip import tensor, basis\n",
    "\n",
    "zero_state = tensor(basis(2, 0), basis(2, 0), basis(2, 0))\n",
    "result = qc.run(state=zero_state)\n",
    "wstate = result\n",
    "\n",
    "print(wstate)"
   ]
  },
  {
   "cell_type": "markdown",
   "id": "7972f544",
   "metadata": {},
   "source": [
    "## version of software package/module "
   ]
  },
  {
   "cell_type": "code",
   "execution_count": 37,
   "id": "434f238e",
   "metadata": {},
   "outputs": [],
   "source": [
    "# about()\n",
    "# from qutip.ipynbtools import version_table\n",
    "# version_table()\n",
    "# qutip.cite()"
   ]
  },
  {
   "cell_type": "code",
   "execution_count": 52,
   "id": "later-asthma",
   "metadata": {},
   "outputs": [],
   "source": [
    "# conda list"
   ]
  },
  {
   "cell_type": "code",
   "execution_count": 333,
   "id": "4a28add9",
   "metadata": {},
   "outputs": [
    {
     "name": "stdout",
     "output_type": "stream",
     "text": [
      "1.1.2\n"
     ]
    }
   ],
   "source": [
    "import sklearn\n",
    "print(sklearn.__version__)"
   ]
  },
  {
   "cell_type": "code",
   "execution_count": 29,
   "id": "59b1af11",
   "metadata": {},
   "outputs": [
    {
     "data": {
      "text/plain": [
       "0.8535533908447781"
      ]
     },
     "execution_count": 29,
     "metadata": {},
     "output_type": "execute_result"
    }
   ],
   "source": [
    "# https://vprusso.github.io/toqito/\n",
    "from toqito.nonlocal_games.xor_game import XORGame\n",
    "\n",
    "# The probability matrix.\n",
    "prob_mat = np.array([[1/4, 1/4], [1/4, 1/4]])\n",
    "\n",
    "# The predicate matrix.\n",
    "pred_mat = np.array([[0, 0], [0, 1]])\n",
    "\n",
    "# Define CHSH game from matrices.\n",
    "chsh = XORGame(prob_mat, pred_mat)\n",
    "chsh.classical_value()\n",
    "chsh.quantum_value()"
   ]
  },
  {
   "cell_type": "code",
   "execution_count": null,
   "id": "c4b59b7e",
   "metadata": {},
   "outputs": [],
   "source": []
  }
 ],
 "metadata": {
  "kernelspec": {
   "display_name": "Python 3.8.8 ('base')",
   "language": "python",
   "name": "python3"
  },
  "language_info": {
   "codemirror_mode": {
    "name": "ipython",
    "version": 3
   },
   "file_extension": ".py",
   "mimetype": "text/x-python",
   "name": "python",
   "nbconvert_exporter": "python",
   "pygments_lexer": "ipython3",
   "version": "3.8.8"
  },
  "vscode": {
   "interpreter": {
    "hash": "4e8ef2f9fcac0817bca9a7ca376f64f20b4df5ea3bf7af756a50bda7d3557ea6"
   }
  }
 },
 "nbformat": 4,
 "nbformat_minor": 5
}
