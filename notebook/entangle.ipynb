{
 "cells": [
  {
   "cell_type": "markdown",
   "id": "3bf26aee",
   "metadata": {},
   "source": [
    "# Entanglement detection"
   ]
  },
  {
   "cell_type": "code",
   "execution_count": 1,
   "id": "funny-inflation",
   "metadata": {
    "ExecuteTime": {
     "end_time": "2021-02-03T19:46:44.658494Z",
     "start_time": "2021-02-03T19:46:44.587725Z"
    }
   },
   "outputs": [],
   "source": [
    "## import necessary packages\n",
    "import sys\n",
    "import numpy as np\n",
    "import matplotlib as mpl\n",
    "import math\n",
    "\n",
    "# mpl.rcParams['figure.dpi'] = 400\n",
    "# mpl.rcParams[\"figure.figsize\"] = [10, 6]\n",
    "import matplotlib.pyplot as plt\n",
    "%matplotlib inline\n",
    "%config InlineBackend.figure_format = 'retina'\n",
    "\n",
    "# print(sys.version)\n",
    "# print(sys.executable)\n",
    "# print(np.__version__)\n",
    "# print(mpl.__version__)\n",
    "\n",
    "from qutip import *"
   ]
  },
  {
   "cell_type": "markdown",
   "id": "085170c1",
   "metadata": {},
   "source": [
    "## Shadow tomography"
   ]
  },
  {
   "cell_type": "markdown",
   "id": "9a023bf9",
   "metadata": {},
   "source": [
    "### full tomography"
   ]
  },
  {
   "cell_type": "code",
   "execution_count": 20,
   "id": "4447f1c7",
   "metadata": {},
   "outputs": [],
   "source": [
    "# Quantum Process Tomography\n",
    "\n",
    "# qpt(U, op_basis_list)\n",
    "# qpt_plot(chi, lbls_list, title=None, fig=None, axes=None)"
   ]
  },
  {
   "cell_type": "markdown",
   "id": "fb9f0f46",
   "metadata": {},
   "source": [
    "### shadow tomography"
   ]
  },
  {
   "cell_type": "markdown",
   "id": "0e53809e",
   "metadata": {},
   "source": [
    "### classical shadow"
   ]
  },
  {
   "cell_type": "markdown",
   "id": "284f9e26",
   "metadata": {},
   "source": [
    "### derandomized tomography"
   ]
  },
  {
   "cell_type": "markdown",
   "id": "4d75326e",
   "metadata": {},
   "source": [
    "## quantum circuits"
   ]
  },
  {
   "cell_type": "markdown",
   "id": "e4d7fc2d",
   "metadata": {},
   "source": [
    "### qunatum trace estimation \n",
    "\n",
    "#### entanglement spectrum"
   ]
  },
  {
   "cell_type": "code",
   "execution_count": null,
   "id": "6af7f788",
   "metadata": {},
   "outputs": [],
   "source": [
    "# cnot(N=None, control=0, target=1)\n",
    "# controlled_gate(U, N=2, control=0, target=1, control_value=1)\n",
    "# csign(N=None, control=0, target=1)\n",
    "# hadamard_transform(N=1)\n",
    "# phasegate(theta, N=None, target=0)\n",
    "# sqrtswap(N=None, targets=[0, 1])\n",
    "# swap(N=None, targets=[0, 1])\n",
    "# toffoli(N=None, controls=[0, 1], target=2)\n",
    "\n",
    "# qft(N=1)"
   ]
  },
  {
   "cell_type": "markdown",
   "id": "87019b00",
   "metadata": {},
   "source": [
    "### Generate GHZ states"
   ]
  },
  {
   "cell_type": "code",
   "execution_count": 21,
   "id": "52204e80",
   "metadata": {},
   "outputs": [
    {
     "name": "stderr",
     "output_type": "stream",
     "text": [
      "/Users/jue/opt/anaconda3/lib/python3.8/site-packages/qutip_qip/operations/gates.py:463: UserWarning: Unknown gate cH\n",
      "  warnings.warn(\"Unknown gate %s\" % name)\n"
     ]
    },
    {
     "data": {
      "image/png": "[encoded data removed]",
      "text/plain": [
       "<IPython.core.display.Image object>"
      ]
     },
     "execution_count": 21,
     "metadata": {},
     "output_type": "execute_result"
    }
   ],
   "source": [
    "from qutip_qip.circuit import QubitCircuit\n",
    "from qutip_qip.operations import (Gate, controlled_gate, hadamard_transform)\n",
    "\n",
    "def controlled_hadamard():\n",
    "    # Controlled Hadamard\n",
    "    return controlled_gate(hadamard_transform(1),\n",
    "                           2,\n",
    "                           control=0,\n",
    "                           target=1,\n",
    "                           control_value=1)\n",
    "\n",
    "qc = QubitCircuit(N=3, num_cbits=3)\n",
    "qc.user_gates = {\"cH\": controlled_hadamard}\n",
    "qc.add_gate(\"QASMU\", targets=[0], arg_value=[1.91063, 0, 0])\n",
    "qc.add_gate(\"cH\", targets=[0, 1])\n",
    "qc.add_gate(\"TOFFOLI\", targets=[2], controls=[0, 1])\n",
    "qc.add_gate(\"X\", targets=[0])\n",
    "qc.add_gate(\"X\", targets=[1])\n",
    "qc.add_gate(\"CNOT\", targets=[1], controls=0)\n",
    "qc.png\n"
   ]
  },
  {
   "cell_type": "code",
   "execution_count": 30,
   "id": "313c8eab",
   "metadata": {},
   "outputs": [
    {
     "name": "stdout",
     "output_type": "stream",
     "text": [
      "Quantum object: dims = [[2, 2, 2], [1, 1, 1]], shape = (8, 1), type = ket\n",
      "Qobj data =\n",
      "[[0.        ]\n",
      " [0.57734961]\n",
      " [0.57734961]\n",
      " [0.        ]\n",
      " [0.57735159]\n",
      " [0.        ]\n",
      " [0.        ]\n",
      " [0.        ]]\n"
     ]
    }
   ],
   "source": [
    "# from qutip import tensor, basis\n",
    "\n",
    "zero_state = tensor(basis(2, 0), basis(2, 0), basis(2, 0))\n",
    "result = qc.run(state=zero_state)\n",
    "wstate = result\n",
    "\n",
    "print(wstate)"
   ]
  },
  {
   "cell_type": "markdown",
   "id": "1cd51c45",
   "metadata": {},
   "source": [
    "## Entanglement witness"
   ]
  },
  {
   "cell_type": "markdown",
   "id": "b58a1b1e",
   "metadata": {},
   "source": [
    "### machine learning ansatz"
   ]
  },
  {
   "cell_type": "code",
   "execution_count": 348,
   "id": "4a503ca6",
   "metadata": {},
   "outputs": [
    {
     "name": "stdout",
     "output_type": "stream",
     "text": [
      "accuracy of prediction 0: 1.0\n",
      "accuracy of prediction 1: 1.0\n"
     ]
    },
    {
     "data": {
      "image/png": "[encoded data removed]",
      "text/plain": [
       "<Figure size 432x288 with 2 Axes>"
      ]
     },
     "metadata": {
      "image/png": {
       "height": 317,
       "width": 353
      },
      "needs_background": "light"
     },
     "output_type": "display_data"
    }
   ],
   "source": [
    "# rand_herm\n",
    "# rand_unitary\n",
    "# rand_unitary_haar\n",
    "# rand_dm(N=3)\n",
    "# rand_ket\n",
    "\n",
    "number_samples = 1000\n",
    "import random\n",
    "\n",
    "pauli_operators = [qeye(2), sigmax(),sigmay(),sigmaz()]\n",
    "two_pauli = [tensor([a,b]) for a in pauli_operators for b in pauli_operators ]\n",
    "# print(two_pauli)\n",
    "\n",
    "def generate_rand_pure_state_ensemble(d,m):\n",
    "    return [rand_ket(N=d) for i in range(m)]\n",
    "\n",
    "def generate_rand_mixed_state_ensemble(d,m):\n",
    "    return [rand_dm(N=d) for i in range(m)]\n",
    "\n",
    "def generate_rand_entangled_ensemble(d,m):\n",
    "    return [rand_dm(N=d) for i in range(m)]\n",
    "\n",
    "def generate_rand_ghz_ensemble(d,m):\n",
    "    return [rand_dm(N=d) for i in range(m)]\n",
    "\n",
    "def generate_two_qubit_product_pure_state(m):\n",
    "    return [ tensor([rand_ket(N=2),rand_ket(N=2)]) for i in range(m)]\n",
    "\n",
    "def generate_bell_noisy_density(m,k):\n",
    "    # p_limit = 1/3\n",
    "    random_white_noise_p = [random.random()/3 for i in range(m)]\n",
    "\n",
    "    # density_matrix_bell00 = ket2dm( bell_state(state=k) )\n",
    "    # print(density_matrix_bell00)\n",
    "\n",
    "    # noisy_density = density_matrix_bell00* (1 - p) +  p /4 * identity([2,2])\n",
    "    # print(noisy_density)\n",
    "    return [\n",
    "        ket2dm( bell_state(state=k) ) * (1 - p) +  p /4 * identity([2, 2])\n",
    "        for p in random_white_noise_p\n",
    "    ]\n",
    "\n",
    "# generate_rand_pure_state_ensemble(4,5)\n",
    "def assemble_training_dataset(m):\n",
    "    bell00_noisy_density = generate_bell_noisy_density(m,'00')\n",
    "    bell01_noisy_density = generate_bell_noisy_density(m,'01')\n",
    "    bell10_noisy_density = generate_bell_noisy_density(m,'10')\n",
    "    bell11_noisy_density = generate_bell_noisy_density(m,'11')\n",
    "    # generate_two_qubit_product_pure_state(m)\n",
    "    feature_bell00 = [\n",
    "        expect(two_pauli, state) for state in bell00_noisy_density\n",
    "    ]\n",
    "    feature_bell01 = [\n",
    "        expect(two_pauli, state) for state in bell01_noisy_density\n",
    "    ]\n",
    "    feature_bell10 = [\n",
    "        expect(two_pauli, state) for state in bell10_noisy_density\n",
    "    ]\n",
    "    feature_bell11 = [\n",
    "        expect(two_pauli, state) for state in bell11_noisy_density\n",
    "    ]\n",
    "\n",
    "    # dataset_bell00\n",
    "\n",
    "    # visualize a random density matrix\n",
    "    matrix_histogram(bell00_noisy_density[1],\n",
    "                     xlabels=['00', '01', '10', '11'],\n",
    "                     ylabels=['00', '01', '10', '11'],\n",
    "                    #  ylabels=None,\n",
    "                     title=\"a random noisy Bell density matrix\",\n",
    "                     limits=None,\n",
    "                     colorbar=True,\n",
    "                     fig=None,\n",
    "                     ax=None,\n",
    "                     options=None)\n",
    "    # matrix_histogram_complex(M, xlabels=None, ylabels=None, title=None, limits=None, phase_limits=None, colorbar=True, fig=None, ax=None, threshold=None)\n",
    "\n",
    "    feature_separable = [\n",
    "     expect(two_pauli, state)\n",
    "     for state in generate_two_qubit_product_pure_state(m)\n",
    "    ]\n",
    "    feature_separable\n",
    "\n",
    "    dataset = feature_bell00 + feature_bell01 + feature_bell11 + feature_bell10 + feature_separable\n",
    "\n",
    "    label = [0 for i in range(m)] + [0 for i in range(m)]+ [0 for i in range(m)]+ [0 for i in range(m)] + [1 for i in range(m)]\n",
    "    return (dataset, label)\n",
    "\n",
    "(X, Y) = assemble_training_dataset(number_samples)\n",
    "\n",
    "################# SVM training ####################\n",
    "\n",
    "# we create an instance of SVM and fit out data.\n",
    "# linear kernel\n",
    "# clf = svm.SVC(kernel='linear')\n",
    "# # clf = svm.SVC(kernel=my_kernel)\n",
    "# # # clf.get_params()\n",
    "# clf.fit(X, Y)\n",
    "# print(clf.coef0)\n",
    "# print(clf.coef_)\n",
    "# print(clf.intercept_)\n",
    "\n",
    "################# SVM kernel ####################\n",
    "clf = svm.SVC()\n",
    "clf.fit(X, Y)\n",
    "\n",
    "################# test/prediction ####################\n",
    "prediction_0 = clf.predict([expect(two_pauli, state)\n",
    "        for state in generate_bell_noisy_density(number_samples,'00')\n",
    "    ])\n",
    "prediction_1 = clf.predict([expect(two_pauli, state)\n",
    "        for state in generate_two_qubit_product_pure_state(number_samples)\n",
    "    ])\n",
    "# print(prediction)\n",
    "print(\"accuracy of prediction 0:\", sum((1-prediction_0))/number_samples)\n",
    "print(\"accuracy of prediction 1:\", sum(prediction_1)/number_samples)\n"
   ]
  },
  {
   "cell_type": "markdown",
   "id": "693c4b39",
   "metadata": {},
   "source": [
    "#### entanglement witness "
   ]
  },
  {
   "cell_type": "code",
   "execution_count": 32,
   "id": "ae9614a8",
   "metadata": {},
   "outputs": [
    {
     "name": "stdout",
     "output_type": "stream",
     "text": [
      "Quantum object: dims = [[2, 2, 2], [2, 2, 2]], shape = (8, 8), type = oper, isherm = True\n",
      "Qobj data =\n",
      "[[ 0.  0.  0.  0.  0.  0.  1.  0.]\n",
      " [ 0.  0.  0.  0.  0.  0.  0. -1.]\n",
      " [ 0.  0.  0.  0.  1.  0.  0.  0.]\n",
      " [ 0.  0.  0.  0.  0. -1.  0.  0.]\n",
      " [ 0.  0.  1.  0.  0.  0.  0.  0.]\n",
      " [ 0.  0.  0. -1.  0.  0.  0.  0.]\n",
      " [ 1.  0.  0.  0.  0.  0.  0.  0.]\n",
      " [ 0. -1.  0.  0.  0.  0.  0.  0.]]\n"
     ]
    }
   ],
   "source": [
    "# rigorous entanglement witness\n",
    "\n",
    "# ansatz\n",
    "w_ansatz = tensor([sigmax(), sigmax(), sigmaz()]) \n",
    "print(w_ansatz)\n",
    "\n",
    "# Bell inequality\n",
    "\n",
    "# CHSH inequality"
   ]
  },
  {
   "cell_type": "code",
   "execution_count": 27,
   "id": "36d29eb2",
   "metadata": {},
   "outputs": [],
   "source": [
    "# plot_expectation_values(results, ylabels=[], title=None, show_legend=False, fig=None, axes=None, figsize=(8, 4))\n",
    "\n",
    "# plot_wigner_sphere(fig, ax, wigner, reflections)"
   ]
  },
  {
   "cell_type": "markdown",
   "id": "44807a2a",
   "metadata": {},
   "source": [
    "### Bell, CHSH inequalities"
   ]
  },
  {
   "cell_type": "code",
   "execution_count": null,
   "id": "b3fc4529",
   "metadata": {},
   "outputs": [],
   "source": [
    "expect(oper, state)\n",
    "variance(oper, state)\n",
    "entropy_relative(rho, sigma, base=2.718281828459045, sparse=False, tol=1e-12)\n",
    "entropy_vn(rho, base=2.718281828459045, sparse=False)\n",
    "tracedist(A, B, sparse=False, tol=0)\n",
    "\n",
    "measure(state, ops, targets=None)\n",
    "measure_observable(state, op, targets=None)\n",
    "\n",
    "# covariance_matrix(basis, rho, symmetrized=True)\n",
    "# logarithmic_negativity(V, g=1.4142135623730951)"
   ]
  },
  {
   "cell_type": "markdown",
   "id": "5102a282",
   "metadata": {},
   "source": [
    "#### Two-qubit case"
   ]
  },
  {
   "cell_type": "code",
   "execution_count": 331,
   "id": "d8adb61a",
   "metadata": {},
   "outputs": [],
   "source": [
    "# bell state\n",
    "\n",
    "# b = Bloch()\n",
    "# b.show()\n",
    "# bell_state(state='00')"
   ]
  },
  {
   "cell_type": "markdown",
   "id": "d94f5ccb",
   "metadata": {},
   "source": [
    "##### PPT \n",
    "\n",
    "$$|\\psi \\rangle $$"
   ]
  },
  {
   "cell_type": "code",
   "execution_count": 334,
   "id": "662289c0",
   "metadata": {},
   "outputs": [
    {
     "name": "stdout",
     "output_type": "stream",
     "text": [
      "Quantum object: dims = [[3], [3]], shape = (3, 3), type = oper, isherm = True\n",
      "Qobj data =\n",
      "[[0. 0. 0.]\n",
      " [0. 0. 0.]\n",
      " [0. 0. 1.]]\n"
     ]
    }
   ],
   "source": [
    "x = basis(3, 2)\n",
    "M = ket2dm(x)\n",
    "print(M)\n",
    "# dag(A)\n",
    "# ptrace()\n",
    "# flatten(l)\n",
    "# partial_transpose(rho, mask, method='dense')\n",
    "\n",
    "# matrix_histogram(M, xlabels=None, ylabels=None, title=None, limits=None, colorbar=True, fig=None, ax=None)\n"
   ]
  },
  {
   "cell_type": "markdown",
   "id": "c35e497a",
   "metadata": {},
   "source": [
    "##### Two-qudit\n",
    "\n",
    "##### Two-qutrit"
   ]
  },
  {
   "cell_type": "code",
   "execution_count": 345,
   "id": "79401252",
   "metadata": {},
   "outputs": [],
   "source": [
    "# qutrit_basis()"
   ]
  },
  {
   "cell_type": "markdown",
   "id": "44c65b17",
   "metadata": {},
   "source": [
    "#### Three-qubit case"
   ]
  },
  {
   "cell_type": "markdown",
   "id": "b5d1f1bd",
   "metadata": {},
   "source": [
    "##### bipartite"
   ]
  },
  {
   "cell_type": "code",
   "execution_count": 346,
   "id": "66e7e322",
   "metadata": {},
   "outputs": [
    {
     "data": {
      "text/plain": [
       "(<Figure size 432x432 with 1 Axes>,\n",
       " <AxesSubplot:xlabel='last particles', ylabel='first particles'>)"
      ]
     },
     "execution_count": 346,
     "metadata": {},
     "output_type": "execute_result"
    },
    {
     "data": {
      "image/png": "[encoded data removed]",
      "text/plain": [
       "<Figure size 432x432 with 1 Axes>"
      ]
     },
     "metadata": {
      "image/png": {
       "height": 372,
       "width": 218
      },
      "needs_background": "light"
     },
     "output_type": "display_data"
    }
   ],
   "source": [
    "# GHZ\n",
    "ghz = ghz_state(N=3)\n",
    "\n",
    "# W\n",
    "w = w_state(N=3)\n",
    "# bell_state(state='00')\n",
    "# singlet_state()\n",
    "\n",
    "# Schmidt decomposition\n",
    "plot_schmidt(w, splitting=None, labels_iteration=(3, 2), theme='light', fig=None, ax=None, figsize=(6, 6))"
   ]
  },
  {
   "cell_type": "markdown",
   "id": "1ad4d138",
   "metadata": {},
   "source": [
    "fully separable\n",
    "\n",
    "biseparable\n",
    "\n",
    "GME"
   ]
  },
  {
   "cell_type": "markdown",
   "id": "8e52f874",
   "metadata": {},
   "source": [
    "##### mixed state"
   ]
  },
  {
   "cell_type": "markdown",
   "id": "a1805c33",
   "metadata": {},
   "source": [
    "Werner state"
   ]
  },
  {
   "cell_type": "markdown",
   "id": "3336c51d",
   "metadata": {},
   "source": [
    "#### Four-qubit"
   ]
  },
  {
   "cell_type": "markdown",
   "id": "7972f544",
   "metadata": {},
   "source": [
    "## version of software package/module "
   ]
  },
  {
   "cell_type": "code",
   "execution_count": 37,
   "id": "434f238e",
   "metadata": {},
   "outputs": [],
   "source": [
    "# about()\n",
    "# from qutip.ipynbtools import version_table\n",
    "# version_table()\n",
    "# qutip.cite()"
   ]
  },
  {
   "cell_type": "code",
   "execution_count": 52,
   "id": "later-asthma",
   "metadata": {},
   "outputs": [],
   "source": [
    "# conda list"
   ]
  },
  {
   "cell_type": "code",
   "execution_count": 333,
   "id": "4a28add9",
   "metadata": {},
   "outputs": [
    {
     "name": "stdout",
     "output_type": "stream",
     "text": [
      "1.1.2\n"
     ]
    }
   ],
   "source": [
    "import sklearn\n",
    "print(sklearn.__version__)"
   ]
  },
  {
   "cell_type": "code",
   "execution_count": 29,
   "id": "59b1af11",
   "metadata": {},
   "outputs": [
    {
     "data": {
      "text/plain": [
       "0.8535533908447781"
      ]
     },
     "execution_count": 29,
     "metadata": {},
     "output_type": "execute_result"
    }
   ],
   "source": [
    "# https://vprusso.github.io/toqito/\n",
    "from toqito.nonlocal_games.xor_game import XORGame\n",
    "\n",
    "# The probability matrix.\n",
    "prob_mat = np.array([[1/4, 1/4], [1/4, 1/4]])\n",
    "\n",
    "# The predicate matrix.\n",
    "pred_mat = np.array([[0, 0], [0, 1]])\n",
    "\n",
    "# Define CHSH game from matrices.\n",
    "chsh = XORGame(prob_mat, pred_mat)\n",
    "chsh.classical_value()\n",
    "chsh.quantum_value()"
   ]
  },
  {
   "cell_type": "code",
   "execution_count": null,
   "id": "c4b59b7e",
   "metadata": {},
   "outputs": [],
   "source": []
  }
 ],
 "metadata": {
  "kernelspec": {
   "display_name": "Python 3.8.8 ('base')",
   "language": "python",
   "name": "python3"
  },
  "language_info": {
   "codemirror_mode": {
    "name": "ipython",
    "version": 3
   },
   "file_extension": ".py",
   "mimetype": "text/x-python",
   "name": "python",
   "nbconvert_exporter": "python",
   "pygments_lexer": "ipython3",
   "version": "3.8.8"
  },
  "vscode": {
   "interpreter": {
    "hash": "4e8ef2f9fcac0817bca9a7ca376f64f20b4df5ea3bf7af756a50bda7d3557ea6"
   }
  }
 },
 "nbformat": 4,
 "nbformat_minor": 5
}
